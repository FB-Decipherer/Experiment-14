{
  "nbformat": 4,
  "nbformat_minor": 0,
  "metadata": {
    "colab": {
      "provenance": [],
      "include_colab_link": true
    },
    "kernelspec": {
      "name": "python3",
      "display_name": "Python 3"
    },
    "language_info": {
      "name": "python"
    }
  },
  "cells": [
    {
      "cell_type": "markdown",
      "metadata": {
        "id": "view-in-github",
        "colab_type": "text"
      },
      "source": [
        "<a href=\"https://colab.research.google.com/github/FB-Decipherer/Experiment-14/blob/main/Experiment_14.ipynb\" target=\"_parent\"><img src=\"https://colab.research.google.com/assets/colab-badge.svg\" alt=\"Open In Colab\"/></a>"
      ]
    },
    {
      "cell_type": "markdown",
      "source": [
        "#Experiment-14\n"
      ],
      "metadata": {
        "id": "_TnkHjUgdgxF"
      }
    },
    {
      "cell_type": "markdown",
      "source": [],
      "metadata": {
        "id": "pDu157r1L-O_"
      }
    },
    {
      "cell_type": "code",
      "source": [
        "from google.colab import drive\n",
        "drive.mount('/content/drive')"
      ],
      "metadata": {
        "id": "UKirychg_FwH",
        "colab": {
          "base_uri": "https://localhost:8080/"
        },
        "outputId": "23f02723-1dd1-4246-8179-402b967dcecf"
      },
      "execution_count": 194,
      "outputs": [
        {
          "output_type": "stream",
          "name": "stdout",
          "text": [
            "Drive already mounted at /content/drive; to attempt to forcibly remount, call drive.mount(\"/content/drive\", force_remount=True).\n"
          ]
        }
      ]
    },
    {
      "cell_type": "code",
      "source": [
        "import os\n",
        "import csv\n",
        "import pandas as pd\n",
        "import shutil\n",
        "import datetime"
      ],
      "metadata": {
        "id": "53aSweaXJ_qX"
      },
      "execution_count": 195,
      "outputs": []
    },
    {
      "cell_type": "code",
      "source": [
        "project_name = 'I M Poem Decode 1623'\n",
        "\n",
        "# Derive input and output directories:\n",
        "\n",
        "# Root Directory for project content on Google Drive:\n",
        "content_dir = '/content/drive/MyDrive'\n",
        "project_dir = content_dir + '/' + project_name\n",
        "data_upload_dir = project_dir + '/text data to upload - tsv/upload/'"
      ],
      "metadata": {
        "id": "60l-Z0L2MiJU"
      },
      "execution_count": 196,
      "outputs": []
    },
    {
      "cell_type": "code",
      "source": [
        "#Input File path (1 total):\n",
        "input_filename = 'IM Poem.tsv'\n",
        "data_upload_file = os.path.join(data_upload_dir, input_filename)"
      ],
      "metadata": {
        "id": "6korNsDzLwOd"
      },
      "execution_count": 197,
      "outputs": []
    },
    {
      "cell_type": "code",
      "source": [
        "#Output File Directory paths (6 total):\n",
        "original_text_dir = project_dir + '/original text - csv/'\n",
        "biliterals_dir = project_dir + '/biliterals - csv/'\n",
        "output_data_table_dir = project_dir + '/output data table - csv/'\n",
        "decoded_message_dir = project_dir + '/decoded message - csv/'\n",
        "notebook_dir = project_dir + '/notebook - ipynb/'\n",
        "archive_dir = project_dir + '/archive - zip/'"
      ],
      "metadata": {
        "id": "EQUCBMSsLk74"
      },
      "execution_count": 198,
      "outputs": []
    },
    {
      "cell_type": "code",
      "source": [
        "if os.path.isfile(data_upload_file):\n",
        "  print(data_upload_file)\n",
        "\n",
        "if os.path.isdir(original_text_dir):\n",
        "  print(original_text_dir)\n",
        "\n",
        "if os.path.isdir(biliterals_dir):\n",
        "  print(biliterals_dir)\n",
        "\n",
        "if os.path.isdir(output_data_table_dir):\n",
        "  print(output_data_table_dir)\n",
        "\n",
        "if os.path.isdir(decoded_message_dir):\n",
        "  print(decoded_message_dir)\n",
        "\n",
        "if os.path.isdir(notebook_dir):\n",
        "  print(notebook_dir)\n",
        "\n",
        "if os.path.isdir(archive_dir):\n",
        "  print(archive_dir)"
      ],
      "metadata": {
        "colab": {
          "base_uri": "https://localhost:8080/"
        },
        "id": "Kb_2FtAhL3Wt",
        "outputId": "3d74e1e5-f205-432b-e8de-3f5eb8b86d84"
      },
      "execution_count": 199,
      "outputs": [
        {
          "output_type": "stream",
          "name": "stdout",
          "text": [
            "/content/drive/MyDrive/I M Poem Decode 1623/text data to upload - tsv/upload/IM Poem.tsv\n",
            "/content/drive/MyDrive/I M Poem Decode 1623/original text - csv/\n",
            "/content/drive/MyDrive/I M Poem Decode 1623/biliterals - csv/\n",
            "/content/drive/MyDrive/I M Poem Decode 1623/output data table - csv/\n",
            "/content/drive/MyDrive/I M Poem Decode 1623/decoded message - csv/\n",
            "/content/drive/MyDrive/I M Poem Decode 1623/notebook - ipynb/\n",
            "/content/drive/MyDrive/I M Poem Decode 1623/archive - zip/\n"
          ]
        }
      ]
    },
    {
      "cell_type": "code",
      "source": [
        "import datetime\n",
        "\n",
        "now = datetime.datetime.now()\n",
        "output_filename = now.strftime(\"%Y-%m-%d_%H-%M-%S\")\n",
        "#print (output_filename)\n"
      ],
      "metadata": {
        "id": "q1RROVleMOn2"
      },
      "execution_count": 200,
      "outputs": []
    },
    {
      "cell_type": "code",
      "source": [
        "# Decode a five bit binary word into an English Alphabet letter.\n",
        "# There were 22 letters in the Elizabethan English Alphabet:\n",
        "#   'I' = 'J'\n",
        "#   'U' = 'V'\n",
        "# therefore 5 binary digits are more than enough, 2 (exp) 5 = 32\n",
        "\n",
        "def decode_biliteral(which):\n",
        "\n",
        "  decode = {\n",
        "  'aaaaa': 'a',\n",
        "  'aaaab': 'b',\n",
        "  'aaaba': 'c',\n",
        "  'aaabb': 'd',\n",
        "  'aabaa': 'e',\n",
        "  'aabab': 'f',\n",
        "  'aabba': 'g',\n",
        "  'aabbb': 'h',\n",
        "  'abaaa': 'i',\n",
        "  'abaab': 'k',\n",
        "  'ababa': 'l',\n",
        "  'ababb': 'm',\n",
        "  'abbaa': 'n',\n",
        "  'abbab': 'o',\n",
        "  'abbba': 'p',\n",
        "  'abbbb': 'q',\n",
        "  'baaaa': 'r',\n",
        "  'baaab': 's',\n",
        "  'baaba': 't',\n",
        "  'baabb': 'v',\n",
        "  'babaa': 'w',\n",
        "  'babab': 'x',\n",
        "  'babba': 'y',\n",
        "  'babbb': 'z'\n",
        "  }\n",
        "\n",
        "  which_letter = decode[which]\n",
        "  return which_letter"
      ],
      "metadata": {
        "id": "WbSFd7dSTD2r"
      },
      "execution_count": 201,
      "outputs": []
    },
    {
      "cell_type": "code",
      "source": [
        "# Read the input text data from the .tsv file:\n",
        "print(data_upload_file)\n",
        "input_data_table = pd.read_csv(data_upload_file, sep='\\t', header=None)"
      ],
      "metadata": {
        "colab": {
          "base_uri": "https://localhost:8080/"
        },
        "id": "lU1K-GGFEMCE",
        "outputId": "242df6a9-4fbf-4e8e-e65f-7fad28e08a1e"
      },
      "execution_count": 202,
      "outputs": [
        {
          "output_type": "stream",
          "name": "stdout",
          "text": [
            "/content/drive/MyDrive/I M Poem Decode 1623/text data to upload - tsv/upload/IM Poem.tsv\n"
          ]
        }
      ]
    },
    {
      "cell_type": "code",
      "source": [
        "# De-interlace the original text from the book page text, and store it separately:\n",
        "original_text = input_data_table.iloc[0::3, :]\n",
        "ot_path = original_text_dir + output_filename + '.csv'\n",
        "original_text.to_csv (ot_path, index = None, header=True)\n",
        "#original_text"
      ],
      "metadata": {
        "id": "8Ewxm5NbnDKM"
      },
      "execution_count": 203,
      "outputs": []
    },
    {
      "cell_type": "code",
      "source": [
        "# De-interlace the biliterals (an 'a' or 'b' quintet) from the book page text, and store it separately:\n",
        "biliterals = input_data_table.iloc[1::3, :]\n",
        "blt_path = biliterals_dir + output_filename + '.csv'\n",
        "biliterals.to_csv (blt_path, index = None, header=True)\n",
        "#biliterals"
      ],
      "metadata": {
        "id": "ON1U_heznE1R"
      },
      "execution_count": 204,
      "outputs": []
    },
    {
      "cell_type": "code",
      "source": [
        "# Make a copy of the input data frame, and write rows of decoded biliterals into it:\n",
        "output_encoded_dataframe = input_data_table.copy(deep=True)\n",
        "\n",
        "encoded_text_size = 0\n",
        "original_text_letters = ''\n",
        "decoded_message = ''\n",
        "\n",
        "for row in range(2,27,3):\n",
        "  for column in range(7):\n",
        "    letter = output_encoded_dataframe.loc[row - 2,column]\n",
        "    biliteral = output_encoded_dataframe.loc[row - 1,column]\n",
        "    if(isinstance(biliteral, str)):\n",
        "      which_letter = decode_biliteral(biliteral)\n",
        "      output_encoded_dataframe.loc[row,column] = which_letter\n",
        "      encoded_text_size += 5\n",
        "      original_text_letters += letter\n",
        "      decoded_message += which_letter\n",
        "\n",
        "odt_path = output_data_table_dir + output_filename + '.csv'\n",
        "output_encoded_dataframe.to_csv (odt_path, index = None, header=True)\n",
        "\n",
        "# output_encoded_dataframe"
      ],
      "metadata": {
        "id": "dlUGIBy8AIJA"
      },
      "execution_count": 205,
      "outputs": []
    },
    {
      "cell_type": "code",
      "source": [
        "\n",
        "print('Encoded Text Size: ' + str(encoded_text_size))\n",
        "print('Decoded Text Size: ' + str(len(decoded_message)))\n",
        "print('\\n')\n",
        "print('Raw Decoded Message: ' + decoded_message)\n"
      ],
      "metadata": {
        "colab": {
          "base_uri": "https://localhost:8080/"
        },
        "id": "b8bw0QG3W0P3",
        "outputId": "4784ed83-fb63-44af-924f-cd1977acfd94"
      },
      "execution_count": 206,
      "outputs": [
        {
          "output_type": "stream",
          "name": "stdout",
          "text": [
            "Encoded Text Size: 295\n",
            "Decoded Text Size: 59\n",
            "\n",
            "\n",
            "Raw Decoded Message: searchforkeyestheheadingsofthecomediesfrancisbaronofvervlam\n"
          ]
        }
      ]
    },
    {
      "cell_type": "markdown",
      "source": [
        "\n",
        "---\n",
        "# Dividing the raw decoded text string into Words using spaces:\n",
        "search for keyes the headings of the comedies francis baron of vervlam <br>"
      ],
      "metadata": {
        "id": "fXjf_Zdx922L"
      }
    }
  ]
}